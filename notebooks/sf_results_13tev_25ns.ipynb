{
 "cells": [
  {
   "cell_type": "code",
   "execution_count": 0,
   "metadata": {
    "collapsed": false,
    "scrolled": false
   },
   "outputs": [],
   "source": [
    "ls -lrth ../scripts/13TeV_25ns_inclusive/"
   ]
  },
  {
   "cell_type": "code",
   "execution_count": 0,
   "metadata": {
    "collapsed": true
   },
   "outputs": [],
   "source": []
  },
  {
   "cell_type": "code",
   "execution_count": 0,
   "metadata": {
    "collapsed": false,
    "scrolled": false
   },
   "outputs": [],
   "source": [
    "from rootpy.io import root_open\n",
    "from rootpy.plotting import Hist, Canvas\n",
    "from ROOT import TF1, TPaveText\n",
    "\n",
    "lumi = 1263.\n",
    "option = \"first\"\n",
    "dir_path = \"../scripts/13TeV_25ns_inclusive/\"\n",
    "tag_dict = { \"CSVv2L\": [\"pfCombinedInclusiveSecondaryVertexV2BJetTags\", 0.604 ],\n",
    "             \"CSVv2M\": [\"pfCombinedInclusiveSecondaryVertexV2BJetTags\", 0.890 ],\n",
    "             \"CSVv2T\": [\"pfCombinedInclusiveSecondaryVertexV2BJetTags\", 0.970 ]}"
   ]
  },
  {
   "cell_type": "code",
   "execution_count": 0,
   "metadata": {
    "collapsed": false,
    "scrolled": false
   },
   "outputs": [],
   "source": [
    "\n",
    "c = Canvas(500,500)\n",
    "\n",
    "s_name = \"CSVv2L\"\n",
    "tagger = tag_dict[s_name][0]\n",
    "wp = tag_dict[s_name][1]\n",
    "\n",
    "\n",
    "c_bins = [30, 10000]\n",
    "bins = [30, 10000]\n",
    "\n",
    "c_hist = Hist(c_bins)\n",
    "c_hist.SetStats(False)\n",
    "c_hist.SetAxisRange(0.7,1.3,\"Y\")\n",
    "c_hist.GetXaxis().SetMoreLogLabels()\n",
    "c_hist.GetXaxis().SetNoExponent()\n",
    "c_hist.SetXTitle(\"Jet p_{T}[GeV/c]\")\n",
    "c_hist.SetYTitle(\"Data/Sim. b-tag SF\")\n",
    "c_hist.SetTitle(s_name + \" - CMS preliminary - {}\".format(lumi) +\" pb^{-1} at #sqrt{s} = 13 TeV \")\n",
    "c_hist.Draw()\n",
    "\n",
    "root_file = root_open(\"{}fit_result_{}_{}_{}.root\".format(dir_path, tagger, wp, option))\n",
    "fit_result = root_file.fitresult_sim_kin_pdf_data_hist\n",
    "i_pars = fit_result.floatParsInit()\n",
    "f_pars = fit_result.floatParsFinal()\n",
    "hist = Hist( bins, title = \"FtCM\")\n",
    "for i in range(0,len(bins)-1): \n",
    "    mc_val = i_pars[f_pars.index(\"b_tag_eff_{}\".format(i))].getVal()\n",
    "    data_val = f_pars[f_pars.index(\"b_tag_eff_{}\".format(i))].getVal()\n",
    "    data_err = f_pars[f_pars.index(\"b_tag_eff_{}\".format(i))].getError()\n",
    "    print \"b-tagging efficiency mc {} \\pm {} \".format(data_val,data_err)\n",
    "    print \"b-tagging efficiency data {} \\pm {} \".format(data_val,data_err)\n",
    "    sf = data_val/mc_val\n",
    "    sf_err = data_err/mc_val\n",
    "    print \"scale factor {} \\pm {} \".format(sf,sf_err)\n",
    "\n",
    "    hist[i+1] = (sf,sf_err)\n",
    "hist.Draw(\"SAME E1\")\n",
    "\n",
    "ttbar_xs = f_pars[f_pars.index(\"xsec_TT_TuneCUETP8M1_13TeV-powheg-pythia8_25ns\")].getVal()\n",
    "ttbar_xs_err = f_pars[f_pars.index(\"xsec_TT_TuneCUETP8M1_13TeV-powheg-pythia8_25ns\")].getError()\n",
    "print \"ttbar xs {} \\pm {} \".format(ttbar_xs,ttbar_xs_err)\n",
    "bkg_norm = f_pars[f_pars.index(\"kappa\")].getVal()\n",
    "bkg_norm_err = f_pars[f_pars.index(\"kappa\")].getError()\n",
    "print \"kappa {} \\pm {} \".format(bkg_norm,bkg_norm_err)\n",
    "text_box = TPaveText(0.60,0.7,0.87,0.87, \"NDC\")\n",
    "text_box.AddText(\"KinFtCM\")\n",
    "text_box.AddText(\" - #sigma_{t#bar{t}}\" + \n",
    "                 \" = {:4.0f} #pm {:2.0f}\".format(ttbar_xs, ttbar_xs_err) +\n",
    "                 \" fb^{-1}\")\n",
    "text_box.AddText(\" - #kappa\" + \n",
    "                 \" = {:5.2f} #pm {:5.2f}\".format(bkg_norm,bkg_norm_err ))\n",
    "text_box.Draw()\n",
    "\n",
    "c.SetLogx(1)\n",
    "c.GetPad(0).SetTickx()\n",
    "c.GetPad(0).SetTicky()\n",
    "t = c.GetPrimitive(\"title\")\n",
    "t.SetTextSize(0.04)\n",
    "t.SetBBoxCenterX(300)\n",
    "t.SetBBoxCenterY(30)\n",
    "c"
   ]
  }
 ],
 "metadata": {
  "kernelspec": {
   "display_name": "Python 2",
   "language": "python",
   "name": "python2"
  },
  "language_info": {
   "codemirror_mode": {
    "name": "ipython",
    "version": 2
   },
   "file_extension": ".py",
   "mimetype": "text/x-python",
   "name": "python",
   "nbconvert_exporter": "python",
   "pygments_lexer": "ipython2",
   "version": "2.7.6"
  }
 },
 "nbformat": 4,
 "nbformat_minor": 0
}