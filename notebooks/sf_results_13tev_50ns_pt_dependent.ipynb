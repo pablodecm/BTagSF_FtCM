{
 "cells": [
  {
   "cell_type": "code",
   "execution_count": 0,
   "metadata": {
    "collapsed": false,
    "scrolled": false
   },
   "outputs": [],
   "source": [
    "ls ../scripts/8TeV_pt_dependent/"
   ]
  },
  {
   "cell_type": "code",
   "execution_count": 0,
   "metadata": {
    "collapsed": false,
    "scrolled": false
   },
   "outputs": [],
   "source": [
    "from rootpy.io import root_open\n",
    "from rootpy.plotting import Hist, Canvas\n",
    "from ROOT import TF1, TPaveText\n",
    "\n",
    "lumi = 19789.0\n",
    "option = \"first\"\n",
    "dir_path = \"../scripts/8TeV_pt_dependent/\"\n",
    "tag_dict = { \"CSVL\": [\"combinedSecondaryVertexBJetTags\", 0.244 ],\n",
    "             \"CSVM\": [\"combinedSecondaryVertexBJetTags\", 0.679 ],\n",
    "             \"CSVT\": [\"combinedSecondaryVertexBJetTags\", 0.898 ],\n",
    "             \"JPL\": [\"jetProbabilityBJetTags\", 0.275 ],\n",
    "             \"JPM\": [\"jetProbabilityBJetTags\", 0.545 ],\n",
    "             \"JPT\": [\"jetProbabilityBJetTags\", 0.79 ],\n",
    "             \"TCHPT\" : [\"trackCountingHighPurBJetTags\", 3.41 ]}"
   ]
  },
  {
   "cell_type": "code",
   "execution_count": 0,
   "metadata": {
    "collapsed": false,
    "scrolled": true
   },
   "outputs": [],
   "source": [
    "\n",
    "c = Canvas(1000,500)\n",
    "\n",
    "s_name = \"CSVT\"\n",
    "tagger = tag_dict[s_name][0]\n",
    "wp = tag_dict[s_name][1]\n",
    "\n",
    "sf_array = []\n",
    "sf_err_array = []\n",
    "\n",
    "c_bins = [30, 50, 80, 120, 210, 320]\n",
    "bins = np.array([30, 50, 80, 120, 210, 320])\n",
    "\n",
    "c_hist = Hist(c_bins)\n",
    "c_hist.SetStats(False)\n",
    "c_hist.SetAxisRange(0.7,1.3,\"Y\")\n",
    "c_hist.GetXaxis().SetMoreLogLabels()\n",
    "c_hist.GetXaxis().SetNoExponent()\n",
    "c_hist.SetXTitle(\"Jet p_{T}[GeV/c]\")\n",
    "c_hist.SetYTitle(\"Data/Sim. b-tag SF\")\n",
    "c_hist.SetTitle(s_name + \" - CMS preliminary - {}\".format(lumi) +\" pb^{-1} at #sqrt{s} = 8 TeV \")\n",
    "c_hist.Draw()\n",
    "\n",
    "root_file = root_open(\"{}fit_result_{}_{}_{}.root\".format(dir_path, tagger, wp, option))\n",
    "fit_result = root_file.fitresult_sim_kin_pdf_data_hist\n",
    "i_pars = fit_result.floatParsInit()\n",
    "f_pars = fit_result.floatParsFinal()\n",
    "hist = Hist( bins, title = \"FtCM\")\n",
    "\n",
    "ttbar_xs = f_pars[f_pars.index(\"xsec_TTbar_Summer13\")].getVal()\n",
    "ttbar_xs_err = f_pars[f_pars.index(\"xsec_TTbar_Summer13\")].getError()\n",
    "print \"{} & ${}\\pm{}\".format(ttbar_xs,ttbar_xs_err)\n",
    "bkg_norm = f_pars[f_pars.index(\"kappa\")].getVal()\n",
    "bkg_norm_err = f_pars[f_pars.index(\"kappa\")].getError()\n",
    "#print \"kappa {} \\pm {} \".format(bkg_norm,bkg_norm_err)\n",
    "text_box = TPaveText(0.60,0.7,0.87,0.87, \"NDC\")\n",
    "text_box.AddText(\"KinFtCM\")\n",
    "text_box.AddText(\" - #sigma_{t#bar{t}}\" + \n",
    "                 \" = {:4.0f} #pm {:2.0f}\".format(ttbar_xs, ttbar_xs_err) +\n",
    "                 \" fb^{-1}\")\n",
    "text_box.AddText(\" - #kappa\" + \n",
    "                 \" = {:5.2f} #pm {:5.2f}\".format(bkg_norm,bkg_norm_err ))\n",
    "text_box.Draw()\n",
    "\n",
    "print \"{} & ${:.0f} \\pm {:.0f}$\".format(s_name, ttbar_xs, ttbar_xs_err),\n",
    "\n",
    "\n",
    "for i in range(0,len(bins)-1):\n",
    "    mc_val = i_pars[f_pars.index(\"b_tag_eff_{}\".format(i))].getVal()\n",
    "    data_val = f_pars[f_pars.index(\"b_tag_eff_{}\".format(i))].getVal()\n",
    "    data_err = f_pars[f_pars.index(\"b_tag_eff_{}\".format(i))].getError()\n",
    "    #print \"b-tagging efficiency {}\\pm{} \".format(data_val,data_err)\n",
    "    sf = data_val/mc_val\n",
    "    sf_array.append(sf)\n",
    "    sf_err = data_err/mc_val\n",
    "    sf_err_array.append(sf_err) \n",
    "    print \"& ${:.3f}\\pm{:.3f}$ \".format(sf,sf_err),\n",
    "\n",
    "    hist[i+1] = (sf,sf_err)\n",
    "hist.Draw(\"SAME E1\")\n",
    "\n",
    "print \"\\\\\\\\\"\n",
    "\n",
    "\n",
    "\n",
    "c.SetLogx(1)\n",
    "c.GetPad(0).SetTickx()\n",
    "c.GetPad(0).SetTicky()\n",
    "t = c.GetPrimitive(\"title\")\n",
    "t.SetTextSize(0.04)\n",
    "t.SetBBoxCenterX(300)\n",
    "t.SetBBoxCenterY(30)\n",
    "c"
   ]
  },
  {
   "cell_type": "code",
   "execution_count": 0,
   "metadata": {
    "collapsed": false
   },
   "outputs": [],
   "source": [
    "import numpy as np\n",
    "\n",
    "def array_from_file(array_name, file_name, veto =\"veto\", debug = False):\n",
    "    array = []\n",
    "    with open(file_name, 'r') as f:\n",
    "        words = f.read().split()\n",
    "        for i,w in enumerate(words):\n",
    "            if (array_name in w) and not (veto in w):\n",
    "                if debug:\n",
    "                    print \"{},{},{}\".format(words[i], words[i+1], words[i+2])\n",
    "                if (\"=\" not in w):\n",
    "                    if \"=\" is words[i+1]:\n",
    "                        if (\";\" not in words[i+2]):\n",
    "                            array.append(float(words[i+2]))\n",
    "                        else:\n",
    "                            array.append(float(words[i+2].split(\";\",1)[0]))\n",
    "                    else:\n",
    "                        no_equal = words[i+1].split(\"=\",1)[1]\n",
    "                        if (\";\" not in no_equal):\n",
    "                            array.append(float(no_equal))\n",
    "                        else:\n",
    "                            array.append(float(no_equal.split(\";\",1)[0]))\n",
    "                else:\n",
    "                    rem_equal = w.split(\"=\",1)[1]\n",
    "                    if (\";\" not in rem_equal):\n",
    "                        array.append(float(rem_equal))\n",
    "                    else:\n",
    "                        array.append(float(rem_equal.split(\";\",1)[0]))\n",
    "                    \n",
    "                        \n",
    "                        \n",
    "    return np.array(array)\n",
    "    \n",
    "        \n",
    "        \n",
    "print array_from_file(\"eff_PT\",\"../../../../../paraPabloM/SF8TeV/CSVM.C\")     "
   ]
  },
  {
   "cell_type": "code",
   "execution_count": 0,
   "metadata": {
    "collapsed": false
   },
   "outputs": [],
   "source": [
    "\n",
    "\n",
    "b_file = \"../../../../../paraPabloM/SF8TeV/PtBins.C\"\n",
    "v_file = \"../../../../../paraPabloM/SF8TeV/{}.C\".format(s_name)\n",
    "\n",
    "\n",
    "methods = {}\n",
    "\n",
    "methods[\"Kin-FtC\"] = {\"x\" : (bins[1:]-bins[:-1])/2+bins[:-1],\n",
    "                 \"x_err\" : (bins[1:]-bins[:-1])/2,\n",
    "                 \"y\" : np.array(sf_array),\n",
    "                 \"y_err\" : np.array(sf_err_array)}\n",
    "\n",
    "methods[\"LT\"] = {\"x\" : array_from_file(\"x[\",b_file,\"ex\"),\n",
    "                 \"x_err\" : array_from_file(\"ex[\",b_file),\n",
    "                 \"y\" : array_from_file(\"sf_JP\",v_file),\n",
    "                 \"y_err\" : array_from_file(\"sf_eror_JP\",v_file) }\n",
    "\n",
    "methods[\"PtRel\"] = {\"x\" : array_from_file(\"x1[\",b_file,\"ex\")[:4],\n",
    "                    \"x_err\" : array_from_file(\"ex1[\",b_file)[:4],\n",
    "                    \"y\" : array_from_file(\"sf_PT\",v_file)[:4],\n",
    "                    \"y_err\" : np.sqrt(array_from_file(\"sf_stat_PT\",v_file)**2+(array_from_file(\"sf_PT\",v_file)*array_from_file(\"total_syst_PT\",v_file))**2)[:4]}\n",
    "\n",
    "methods[\"IP3D\"] = {\"x\" : array_from_file(\"x3[\",b_file,\"ex\")[3:0],\n",
    "                    \"x_err\" : array_from_file(\"ex1[\",b_file)[3:0],\n",
    "                    \"y\" : array_from_file(\"sf_IP\",v_file)[3:0],\n",
    "                    \"y_err\" : np.sqrt(array_from_file(\"sf_stat_IP\",v_file)**2+(array_from_file(\"sf_IP\",v_file)*array_from_file(\"total_syst_IP\",v_file))**2)[3:0]}\n",
    "\n",
    "methods[\"System8\"] = {\"x\" : array_from_file(\"x2[\",b_file,\"ex2\"),\n",
    "                    \"x_err\" : array_from_file(\"ex2[\",b_file),\n",
    "                    \"y\" : array_from_file(\"sf_SY\",v_file),\n",
    "                    \"y_err\" : np.sqrt(array_from_file(\"sf_stat_SY\",v_file)**2+(array_from_file(\"sf_SY\",v_file)*.01*array_from_file(\"total_syst_SY\",v_file))**2)}\n",
    "\n",
    "methods[\"LT top\"] = {\"x\" : array_from_file(\"x5[\",b_file,\"ex5\"),\n",
    "                    \"x_err\" : array_from_file(\"ex5[\",b_file),\n",
    "                    \"y\" : array_from_file(\"sf_TT\",v_file),\n",
    "                    \"y_err\" : np.sqrt(sum([ (array_from_file(\"sf_TT\",v_file)*array_from_file(sys,v_file))**2 for sys in [\"sf_stat_TT\",\"pu_TT\",\"model_TT\",\"jes_TT\" ]])) }\n",
    "\n",
    "syst_PSI = [\"cosalpha_PSI\", \"deltaR_PSI\", \"deltaRprobe_PSI\" ,\n",
    "            \"lxys_PSI\", \"mass_PSI\", \"ptsum_PSI\", \"z0_PSI\", \"pu_PSI\" , \"bias_PSI\", \"cor_PSI\"]\n",
    "methods[\"LT J/Psi\"] = {\"x\" : array_from_file(\"x6[\",b_file,\"ex6\")[:-1],\n",
    "                    \"x_err\" : np.array([5,5,5,5,5,5, 11, 9,22, 21])[:-1],\n",
    "                    \"y\" : array_from_file(\"sf_PSI\",v_file)[:-1],\n",
    "                    \"y_err\" : np.sqrt(array_from_file(\"sf_stat_PSI\",v_file)**2+sum([ (array_from_file(\"sf_PSI\",v_file)*array_from_file(sys,v_file))**2 for sys in syst_PSI]))[:-1] }"
   ]
  },
  {
   "cell_type": "code",
   "execution_count": 0,
   "metadata": {
    "collapsed": false
   },
   "outputs": [],
   "source": [
    "array_from_file(\"x1[\",b_file,\"ex\")"
   ]
  },
  {
   "cell_type": "code",
   "execution_count": 0,
   "metadata": {
    "collapsed": false
   },
   "outputs": [],
   "source": [
    "syst_PSI = [\"sf_stat_PSI\",\"cosalpha_PSI\", \"deltaR_PSI\", \"deltaRprobe_PSI\" ,\n",
    "            \"lxys_PSI\", \"mass_PSI\", \"ptsum_PSI\", \"z0_PSI\", \"pu_PSI\" , \"bias_PSI\", \"cor_PSI\"]\n",
    "for sys in syst_PSI:\n",
    "    print array_from_file(sys,v_file)"
   ]
  },
  {
   "cell_type": "code",
   "execution_count": 0,
   "metadata": {
    "collapsed": false
   },
   "outputs": [],
   "source": [
    "np.sqrt(sum([ array_from_file(sys,v_file)**2 for sys in syst_PSI]))"
   ]
  },
  {
   "cell_type": "code",
   "execution_count": 0,
   "metadata": {
    "collapsed": false
   },
   "outputs": [],
   "source": [
    " array_from_file(\"sf_IP\", \"../../../../../paraPabloM/SF8TeV/CSVT.C\")"
   ]
  },
  {
   "cell_type": "code",
   "execution_count": 0,
   "metadata": {
    "collapsed": false
   },
   "outputs": [],
   "source": [
    "print array_from_file(\"x6[\",b_file,\"veto\", True)\n",
    "print [5,5,5,5,5,5, 11, 9,22, 21]"
   ]
  },
  {
   "cell_type": "code",
   "execution_count": 0,
   "metadata": {
    "collapsed": false
   },
   "outputs": [],
   "source": [
    "print array_from_file(\"sf_IP\",v_file,\"veto\", True)\n",
    "print array_from_file(\"sf_stat_PSI\",v_file,\"veto\", True)"
   ]
  },
  {
   "cell_type": "code",
   "execution_count": 0,
   "metadata": {
    "collapsed": false
   },
   "outputs": [],
   "source": [
    "%matplotlib inline\n",
    "import matplotlib.pyplot as plt\n",
    "import matplotlib\n",
    "\n",
    "matplotlib.rcParams.update({'font.size': 14})\n",
    "\n",
    "fig = plt.figure(figsize=(12,6))\n",
    "ax = fig.add_subplot(111)\n",
    "\n",
    "\n",
    "for m_name, m_data in methods.items():\n",
    "    ax.errorbar(m_data[\"x\"],m_data[\"y\"], xerr=m_data[\"x_err\"], yerr=m_data[\"y_err\"], fmt='o',label=m_name)\n",
    "    \n",
    "plt.legend(mode=\"expand\", ncol=7,numpoints=1, frameon=False)\n",
    "ax.set_xlim(30,320)\n",
    "ax.set_ylim(0.7,1.3)\n",
    "ax.semilogx()\n",
    "ax.set_xticks(bins)\n",
    "ax.set_xticklabels(bins)\n",
    "ax.set_title(\"{} - CMS Preliminary - {}\".format(s_name,lumi) +\" $pb^{-1}$ at $\\sqrt{s}$ = 8 TeV \")\n",
    "ax.set_ylabel(\"Data/Sim. b-tag SF\")\n",
    "ax.set_xlabel(\"jet momentum \\GeV\")\n",
    "fig.savefig(\"sf_comparison_8tev_{}.pdf\".format(s_name))\n",
    "    "
   ]
  },
  {
   "cell_type": "code",
   "execution_count": 0,
   "metadata": {
    "collapsed": false
   },
   "outputs": [],
   "source": [
    "cat ../../../../../paraPabloM/SF8TeV/CSVM.C"
   ]
  },
  {
   "cell_type": "code",
   "execution_count": 0,
   "metadata": {
    "collapsed": true
   },
   "outputs": [],
   "source": [
    "cat"
   ]
  }
 ],
 "metadata": {
  "kernelspec": {
   "display_name": "Python 2",
   "language": "python",
   "name": "python2"
  },
  "language_info": {
   "codemirror_mode": {
    "name": "ipython",
    "version": 2
   },
   "file_extension": ".py",
   "mimetype": "text/x-python",
   "name": "python",
   "nbconvert_exporter": "python",
   "pygments_lexer": "ipython2",
   "version": "2.7.6"
  }
 },
 "nbformat": 4,
 "nbformat_minor": 0
}