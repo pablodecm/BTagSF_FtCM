{
 "cells": [
  {
   "cell_type": "code",
   "execution_count": null,
   "metadata": {
    "collapsed": false
   },
   "outputs": [],
   "source": [
    "ls ../scripts/five_bins/"
   ]
  },
  {
   "cell_type": "code",
   "execution_count": null,
   "metadata": {
    "collapsed": false
   },
   "outputs": [],
   "source": [
    "from rootpy.io import root_open\n",
    "from rootpy.plotting import Hist, Canvas\n",
    "from ROOT import TF1, TPaveText\n",
    "\n",
    "dir_path = \"../scripts/five_bins/\"\n",
    "tag_dict = { \"CSVL\": [\"combinedSecondaryVertexBJetTags\", 0.244 ],\n",
    "             \"CSVM\": [\"combinedSecondaryVertexBJetTags\", 0.679 ],\n",
    "             \"CSVT\": [\"combinedSecondaryVertexBJetTags\", 0.898 ],\n",
    "             \"JPL\": [\"jetProbabilityBJetTags\", 0.275 ],\n",
    "             \"JPM\": [\"jetProbabilityBJetTags\", 0.545 ],\n",
    "             \"JPT\": [\"jetProbabilityBJetTags\", 0.79 ],\n",
    "             \"TCHPT\" : [\"trackCountingHighPurBJetTags\", 3.41 ]}"
   ]
  },
  {
   "cell_type": "code",
   "execution_count": null,
   "metadata": {
    "collapsed": false
   },
   "outputs": [],
   "source": [
    "\n",
    "c = Canvas(1000,500)\n",
    "\n",
    "s_name = \"TCHPT\"\n",
    "tagger = tag_dict[s_name][0]\n",
    "wp = tag_dict[s_name][1]\n",
    "\n",
    "\n",
    "c_bins = [20, 30, 40, 50, 60, 70, 80,100, 120, 160, 210, 260, 320, 400, 500, 600, 800]\n",
    "bins = [30, 50, 80, 120, 160, 320]\n",
    "\n",
    "c_hist = Hist(c_bins)\n",
    "c_hist.SetStats(False)\n",
    "c_hist.SetAxisRange(0.7,1.3,\"Y\")\n",
    "c_hist.GetXaxis().SetMoreLogLabels()\n",
    "c_hist.GetXaxis().SetNoExponent()\n",
    "c_hist.SetXTitle(\"Jet p_{T}[GeV/c]\")\n",
    "c_hist.SetYTitle(\"Data/Sim. b-tag SF\")\n",
    "c_hist.SetTitle(s_name + \" - CMS prelim. 20 fb^{-1} at #sqrt{s} = 8 TeV \")\n",
    "c_hist.Draw()\n",
    "\n",
    "root_file = root_open(\"{}fit_result_{}_{}.root\".format(dir_path, tagger, wp))\n",
    "fit_result = root_file.nll\n",
    "i_pars = fit_result.floatParsInit()\n",
    "f_pars = fit_result.floatParsFinal()\n",
    "hist = Hist( bins, title = \"FtCM\")\n",
    "for i in range(2,1+len(bins)):\n",
    "    mc_val = i_pars[f_pars.index(\"tag_eff_{}\".format(i))].getVal()\n",
    "    data_val = f_pars[f_pars.index(\"tag_eff_{}\".format(i))].getVal()\n",
    "    data_err = f_pars[f_pars.index(\"tag_eff_{}\".format(i))].getError()\n",
    "    sf = data_val/mc_val\n",
    "    sf_err = data_err/mc_val\n",
    "    hist[i-1] = (sf,sf_err)\n",
    "hist.Draw(\"SAME E1\")\n",
    "\n",
    "ttbar_xs = f_pars[f_pars.index(\"xsec_TTbar_Summer13\")].getVal()\n",
    "ttbar_xs_err = f_pars[f_pars.index(\"xsec_TTbar_Summer13\")].getError()\n",
    "bkg_norm = f_pars[f_pars.index(\"kappa\")].getVal()\n",
    "bkg_norm_err = f_pars[f_pars.index(\"kappa\")].getError()\n",
    "text_box = TPaveText(0.60,0.7,0.87,0.87, \"NDC\")\n",
    "text_box.AddText(\"pt-dependent FtCM\")\n",
    "text_box.AddText(\" - #sigma_{t#bar{t}}\" + \n",
    "                 \" = {:4.0f} #pm {:2.0f}\".format(ttbar_xs, ttbar_xs_err) +\n",
    "                 \" fb^{-1}\")\n",
    "text_box.AddText(\" - #kappa\" + \n",
    "                 \" = {:5.2f} #pm {:5.2f}\".format(bkg_norm,bkg_norm_err ))\n",
    "text_box.Draw()\n",
    "\n",
    "c.SetLogx(1)\n",
    "c.GetPad(0).SetTickx()\n",
    "c.GetPad(0).SetTicky()\n",
    "t = c.GetPrimitive(\"title\")\n",
    "t.SetTextSize(0.04)\n",
    "t.SetBBoxCenterX(300)\n",
    "t.SetBBoxCenterY(30)\n",
    "c"
   ]
  }
 ],
 "metadata": {
  "kernelspec": {
   "display_name": "Python 2",
   "language": "python",
   "name": "python2"
  },
  "language_info": {
   "codemirror_mode": {
    "name": "ipython",
    "version": 2
   },
   "file_extension": ".py",
   "mimetype": "text/x-python",
   "name": "python",
   "nbconvert_exporter": "python",
   "pygments_lexer": "ipython2",
   "version": "2.7.6"
  }
 },
 "nbformat": 4,
 "nbformat_minor": 0
}
