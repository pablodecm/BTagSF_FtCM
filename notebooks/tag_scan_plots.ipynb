{
 "cells": [
  {
   "cell_type": "code",
   "execution_count": null,
   "metadata": {
    "collapsed": false
   },
   "outputs": [],
   "source": [
    "ls ../scripts/CVS_wp_scan_w_0_bin/"
   ]
  },
  {
   "cell_type": "code",
   "execution_count": null,
   "metadata": {
    "collapsed": false
   },
   "outputs": [],
   "source": [
    "%matplotlib inline\n",
    "import numpy as np\n",
    "import matplotlib\n",
    "import matplotlib.pyplot as plt\n",
    "import matplotlib.gridspec as gridspec\n",
    "from rootpy.io import root_open\n",
    "\n",
    "font = {'size'   : 22}\n",
    "\n",
    "matplotlib.rc('font', **font)\n",
    "\n",
    "\n",
    "tagger = \"combinedSecondaryVertexBJetTags\"\n",
    "wps = np.linspace(0.0,1.0,20)\n",
    "dir_path = \"../scripts/CVS_wp_scan_w_0_bin/\"\n",
    "root_files = [root_open(\"{}fit_result_{}_{}.root\".format(dir_path, tagger, wp)) for wp in wps]\n",
    "fit_results = [f.nll_simulpdf_data_with_constr for f in root_files]\n",
    "for f in root_files: f.Close()\n",
    "tag_effs_mc = np.array([r.floatParsInit()[1].getVal() for r in fit_results])\n",
    "tag_effs_data = np.array([r.floatParsFinal()[1].getVal() for r in fit_results])\n",
    "tag_effs_data_err = np.array([r.floatParsFinal()[1].getError() for r in fit_results])\n",
    "\n",
    "i_min = 3\n",
    "i_max = -1\n",
    "\n",
    "f = plt.figure(figsize=(12,7), dpi=300)\n",
    "\n",
    "gs = gridspec.GridSpec(2, 1,height_ratios=[3,1])\n",
    "ax = plt.subplot(gs[0])\n",
    "ratio = plt.subplot(gs[1])\n",
    "f.subplots_adjust(hspace=0)\n",
    "ax.get_xaxis().set_visible(False)\n",
    "ax.set_xlim((0.11, 0.99))\n",
    "ax.set_ylabel(\"b-tag efficiency\")\n",
    "ax.set_ylim((0.32, 0.95))\n",
    "ax.errorbar(wps[i_min:i_max], tag_effs_mc[i_min:i_max],fmt=\"k\");\n",
    "ax.errorbar(wps[i_min:i_max], tag_effs_data[i_min:i_max], yerr=tag_effs_data_err[i_min:i_max], fmt=\"ro\");\n",
    "sf =  tag_effs_data[i_min:i_max]/tag_effs_mc[i_min:i_max]\n",
    "ratio.set_xlim((0.11, 0.99))\n",
    "ratio.set_xlabel(\"CSV discrimator value\")\n",
    "ratio.set_ylabel(\"SF b-tag\")\n",
    "ratio.set_ylim((0.93, 1.05))\n",
    "ratio.set_yticks([0.95, 1.00, 1.05])\n",
    "ratio.errorbar(wps[i_min:i_max], sf, fmt=\"ko\" );\n"
   ]
  }
 ],
 "metadata": {
  "kernelspec": {
   "display_name": "Python 2",
   "language": "python",
   "name": "python2"
  },
  "language_info": {
   "codemirror_mode": {
    "name": "ipython",
    "version": 2
   },
   "file_extension": ".py",
   "mimetype": "text/x-python",
   "name": "python",
   "nbconvert_exporter": "python",
   "pygments_lexer": "ipython2",
   "version": "2.7.6"
  }
 },
 "nbformat": 4,
 "nbformat_minor": 0
}
