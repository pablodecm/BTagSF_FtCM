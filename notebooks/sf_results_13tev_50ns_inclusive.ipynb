{
 "cells": [
  {
   "cell_type": "code",
   "execution_count": 10,
   "metadata": {
    "collapsed": false,
    "scrolled": false
   },
   "outputs": [
    {
     "name": "stdout",
     "output_type": "stream",
     "text": [
      "fit_result_ccombinedSecondaryVertexBJetTags_0.679_first.root\r\n",
      "fit_result_ccombinedSecondaryVertexBJetTags_0.898_first.root\r\n",
      "fit_result_cjetProbabilityBJetTags_0.275_first.root\r\n",
      "fit_result_cjetProbabilityBJetTags_0.545_first.root\r\n",
      "fit_result_cjetProbabilityBJetTags_0.79_first.root\r\n",
      "fit_result_combinedSecondaryVertexBJetTags_0.0_first.root\r\n",
      "fit_result_combinedSecondaryVertexBJetTags_0.244_4jets.root\r\n",
      "fit_result_combinedSecondaryVertexBJetTags_0.244_first.root\r\n",
      "fit_result_combinedSecondaryVertexBJetTags_0.679_4jets.root\r\n",
      "fit_result_combinedSecondaryVertexBJetTags_0.679_first.root\r\n",
      "fit_result_combinedSecondaryVertexBJetTags_0.898_4jets.root\r\n",
      "fit_result_combinedSecondaryVertexBJetTags_0.898_first.root\r\n",
      "fit_result_combinedSecondaryVertexBJetTags_1.05263157895_first.root\r\n",
      "fit_result_combinedSecondaryVertexBJetTags_10.5263157895_first.root\r\n",
      "fit_result_combinedSecondaryVertexBJetTags_11.5789473684_first.root\r\n",
      "fit_result_combinedSecondaryVertexBJetTags_12.6315789474_first.root\r\n",
      "fit_result_combinedSecondaryVertexBJetTags_13.6842105263_first.root\r\n",
      "fit_result_combinedSecondaryVertexBJetTags_14.7368421053_first.root\r\n",
      "fit_result_combinedSecondaryVertexBJetTags_15.7894736842_first.root\r\n",
      "fit_result_combinedSecondaryVertexBJetTags_16.8421052632_first.root\r\n",
      "fit_result_combinedSecondaryVertexBJetTags_17.8947368421_first.root\r\n",
      "fit_result_combinedSecondaryVertexBJetTags_18.9473684211_first.root\r\n",
      "fit_result_combinedSecondaryVertexBJetTags_20.0_first.root\r\n",
      "fit_result_combinedSecondaryVertexBJetTags_2.10526315789_first.root\r\n",
      "fit_result_combinedSecondaryVertexBJetTags_3.15789473684_first.root\r\n",
      "fit_result_combinedSecondaryVertexBJetTags_4.21052631579_first.root\r\n",
      "fit_result_combinedSecondaryVertexBJetTags_5.26315789474_first.root\r\n",
      "fit_result_combinedSecondaryVertexBJetTags_6.31578947368_first.root\r\n",
      "fit_result_combinedSecondaryVertexBJetTags_7.36842105263_first.root\r\n",
      "fit_result_combinedSecondaryVertexBJetTags_8.42105263158_first.root\r\n",
      "fit_result_combinedSecondaryVertexBJetTags_9.47368421053_first.root\r\n",
      "fit_result_ctrackCountingHighPurBJetTags_3.41_first.root\r\n",
      "fit_result_jetProbabilityBJetTags_0.0_first.root\r\n",
      "fit_result_jetProbabilityBJetTags_0.275_4jets.root\r\n",
      "fit_result_jetProbabilityBJetTags_0.275_first.root\r\n",
      "fit_result_jetProbabilityBJetTags_0.545_4jets.root\r\n",
      "fit_result_jetProbabilityBJetTags_0.545_first.root\r\n",
      "fit_result_jetProbabilityBJetTags_0.79_4jets.root\r\n",
      "fit_result_jetProbabilityBJetTags_0.79_first.root\r\n",
      "fit_result_jetProbabilityBJetTags_1.05263157895_first.root\r\n",
      "fit_result_jetProbabilityBJetTags_10.5263157895_first.root\r\n",
      "fit_result_jetProbabilityBJetTags_11.5789473684_first.root\r\n",
      "fit_result_jetProbabilityBJetTags_12.6315789474_first.root\r\n",
      "fit_result_jetProbabilityBJetTags_13.6842105263_first.root\r\n",
      "fit_result_jetProbabilityBJetTags_14.7368421053_first.root\r\n",
      "fit_result_jetProbabilityBJetTags_15.7894736842_first.root\r\n",
      "fit_result_jetProbabilityBJetTags_16.8421052632_first.root\r\n",
      "fit_result_jetProbabilityBJetTags_17.8947368421_first.root\r\n",
      "fit_result_jetProbabilityBJetTags_18.9473684211_first.root\r\n",
      "fit_result_jetProbabilityBJetTags_20.0_first.root\r\n",
      "fit_result_jetProbabilityBJetTags_2.10526315789_first.root\r\n",
      "fit_result_jetProbabilityBJetTags_3.15789473684_first.root\r\n",
      "fit_result_jetProbabilityBJetTags_4.21052631579_first.root\r\n",
      "fit_result_jetProbabilityBJetTags_5.26315789474_first.root\r\n",
      "fit_result_jetProbabilityBJetTags_6.31578947368_first.root\r\n",
      "fit_result_jetProbabilityBJetTags_7.36842105263_first.root\r\n",
      "fit_result_jetProbabilityBJetTags_8.42105263158_first.root\r\n",
      "fit_result_jetProbabilityBJetTags_9.47368421053_first.root\r\n",
      "fit_result_trackCountingHighPurBJetTags_0.0_first.root\r\n",
      "fit_result_trackCountingHighPurBJetTags_1.05263157895_first.root\r\n",
      "fit_result_trackCountingHighPurBJetTags_2.10526315789_first.root\r\n",
      "fit_result_trackCountingHighPurBJetTags_3.15789473684_first.root\r\n",
      "fit_result_trackCountingHighPurBJetTags_3.41_4jets.root\r\n",
      "fit_result_trackCountingHighPurBJetTags_3.41_first.root\r\n",
      "fit_result_trackCountingHighPurBJetTags_4.21052631579_first.root\r\n",
      "fit_result_trackCountingHighPurBJetTags_5.26315789474_first.root\r\n",
      "fit_result_trackCountingHighPurBJetTags_6.31578947368_first.root\r\n",
      "fit_result_trackCountingHighPurBJetTags_7.36842105263_first.root\r\n",
      "fit_result_trackCountingHighPurBJetTags_8.42105263158_first.root\r\n"
     ]
    }
   ],
   "source": [
    "ls ../scripts/8TeV_inclusive/"
   ]
  },
  {
   "cell_type": "code",
   "execution_count": 27,
   "metadata": {
    "collapsed": false,
    "scrolled": false
   },
   "outputs": [],
   "source": [
    "from rootpy.io import root_open\n",
    "from rootpy.plotting import Hist, Canvas\n",
    "from ROOT import TF1, TPaveText\n",
    "\n",
    "lumi = 19789.0\n",
    "option = \"first\"\n",
    "dir_path = \"../scripts/8TeV_inclusive/\"\n",
    "tag_dict = { \"CSVL\": [\"combinedSecondaryVertexBJetTags\", 0.244 ],\n",
    "             \"CSVM\": [\"combinedSecondaryVertexBJetTags\", 0.679 ],\n",
    "             \"CSVT\": [\"combinedSecondaryVertexBJetTags\", 0.898 ],\n",
    "             \"JPL\": [\"jetProbabilityBJetTags\", 0.275 ],\n",
    "             \"JPM\": [\"jetProbabilityBJetTags\", 0.545 ],\n",
    "             \"JPT\": [\"jetProbabilityBJetTags\", 0.79 ],\n",
    "             \"TCHPT\" : [\"trackCountingHighPurBJetTags\", 3.41 ]}"
   ]
  },
  {
   "cell_type": "code",
   "execution_count": 38,
   "metadata": {
    "collapsed": false,
    "scrolled": false
   },
   "outputs": [
    {
     "name": "stdout",
     "output_type": "stream",
     "text": [
      "b-tagging efficiency mc 0.406990298583 \\pm 0.00206812026042 \n",
      "b-tagging efficiency data 0.406990298583 \\pm 0.00206812026042 \n",
      "scale factor 0.948773879265 \\pm 0.00482119227189 \n",
      "ttbar xs 224.622867724 \\pm 1.36970170109 \n",
      "kappa 1.07865440944 \\pm 0.00941202117778 \n"
     ]
    },
    {
     "data": {
      "image/png": "[encoded data removed]",
      "text/plain": [
       "Canvas('Canvas_YizeNUYxWaZW3sfxRByceB')"
      ]
     },
     "execution_count": 38,
     "metadata": {},
     "output_type": "execute_result"
    }
   ],
   "source": [
    "\n",
    "c = Canvas(500,500)\n",
    "\n",
    "s_name = \"JPT\"\n",
    "tagger = tag_dict[s_name][0]\n",
    "wp = tag_dict[s_name][1]\n",
    "\n",
    "\n",
    "c_bins = [30, 10000]\n",
    "bins = [30, 10000]\n",
    "\n",
    "c_hist = Hist(c_bins)\n",
    "c_hist.SetStats(False)\n",
    "c_hist.SetAxisRange(0.7,1.3,\"Y\")\n",
    "c_hist.GetXaxis().SetMoreLogLabels()\n",
    "c_hist.GetXaxis().SetNoExponent()\n",
    "c_hist.SetXTitle(\"Jet p_{T}[GeV/c]\")\n",
    "c_hist.SetYTitle(\"Data/Sim. b-tag SF\")\n",
    "c_hist.SetTitle(s_name + \" - CMS preliminary - {}\".format(lumi) +\" pb^{-1} at #sqrt{s} = 8 TeV \")\n",
    "c_hist.Draw()\n",
    "\n",
    "root_file = root_open(\"{}fit_result_{}_{}_{}.root\".format(dir_path, tagger, wp, option))\n",
    "fit_result = root_file.fitresult_sim_kin_pdf_data_hist\n",
    "i_pars = fit_result.floatParsInit()\n",
    "f_pars = fit_result.floatParsFinal()\n",
    "hist = Hist( bins, title = \"FtCM\")\n",
    "for i in range(0,len(bins)-1):\n",
    "    mc_val = i_pars[f_pars.index(\"b_tag_eff_{}\".format(i))].getVal()\n",
    "    data_val = f_pars[f_pars.index(\"b_tag_eff_{}\".format(i))].getVal()\n",
    "    data_err = f_pars[f_pars.index(\"b_tag_eff_{}\".format(i))].getError()\n",
    "    print \"b-tagging efficiency mc {} \\pm {} \".format(data_val,data_err)\n",
    "    print \"b-tagging efficiency data {} \\pm {} \".format(data_val,data_err)\n",
    "    sf = data_val/mc_val\n",
    "    sf_err = data_err/mc_val\n",
    "    print \"scale factor {} \\pm {} \".format(sf,sf_err)\n",
    "\n",
    "    hist[i+1] = (sf,sf_err)\n",
    "hist.Draw(\"SAME E1\")\n",
    "\n",
    "ttbar_xs = f_pars[f_pars.index(\"xsec_TTbar_Summer13\")].getVal()\n",
    "ttbar_xs_err = f_pars[f_pars.index(\"xsec_TTbar_Summer13\")].getError()\n",
    "print \"ttbar xs {} \\pm {} \".format(ttbar_xs,ttbar_xs_err)\n",
    "bkg_norm = f_pars[f_pars.index(\"kappa\")].getVal()\n",
    "bkg_norm_err = f_pars[f_pars.index(\"kappa\")].getError()\n",
    "print \"kappa {} \\pm {} \".format(bkg_norm,bkg_norm_err)\n",
    "text_box = TPaveText(0.60,0.7,0.87,0.87, \"NDC\")\n",
    "text_box.AddText(\"KinFtCM\")\n",
    "text_box.AddText(\" - #sigma_{t#bar{t}}\" + \n",
    "                 \" = {:4.0f} #pm {:2.0f}\".format(ttbar_xs, ttbar_xs_err) +\n",
    "                 \" fb^{-1}\")\n",
    "text_box.AddText(\" - #kappa\" + \n",
    "                 \" = {:5.2f} #pm {:5.2f}\".format(bkg_norm,bkg_norm_err ))\n",
    "text_box.Draw()\n",
    "\n",
    "c.SetLogx(1)\n",
    "c.GetPad(0).SetTickx()\n",
    "c.GetPad(0).SetTicky()\n",
    "t = c.GetPrimitive(\"title\")\n",
    "t.SetTextSize(0.04)\n",
    "t.SetBBoxCenterX(300)\n",
    "t.SetBBoxCenterY(30)\n",
    "c"
   ]
  }
 ],
 "metadata": {
  "kernelspec": {
   "display_name": "Python 2",
   "language": "python",
   "name": "python2"
  },
  "language_info": {
   "codemirror_mode": {
    "name": "ipython",
    "version": 2
   },
   "file_extension": ".py",
   "mimetype": "text/x-python",
   "name": "python",
   "nbconvert_exporter": "python",
   "pygments_lexer": "ipython2",
   "version": "2.7.6"
  }
 },
 "nbformat": 4,
 "nbformat_minor": 0
}
