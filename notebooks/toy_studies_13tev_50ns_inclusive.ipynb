{
 "cells": [
  {
   "cell_type": "code",
   "execution_count": 0,
   "metadata": {
    "collapsed": false,
    "scrolled": false
   },
   "outputs": [],
   "source": [
    "ls ../scripts/toy_studies_50ns_inclusive/fit_result_pfCombinedInclusiveSecondaryVertexV2BJetTags_0.97_100.0_0.r"
   ]
  },
  {
   "cell_type": "code",
   "execution_count": 0,
   "metadata": {
    "collapsed": false,
    "scrolled": false
   },
   "outputs": [],
   "source": [
    "from ROOT import TFile\n",
    "import numpy as np\n",
    "import corner\n",
    "\n",
    "\n",
    "dir_path = \"../scripts/toy_studies_50ns_inclusive/\"\n",
    "tag_dict = { \"CSVv2L\": [\"pfCombinedInclusiveSecondaryVertexV2BJetTags\", 0.604 ],\n",
    "             \"CSVv2M\": [\"pfCombinedInclusiveSecondaryVertexV2BJetTags\", 0.890 ],\n",
    "             \"CSVv2T\": [\"pfCombinedInclusiveSecondaryVertexV2BJetTags\", 0.970 ]}"
   ]
  },
  {
   "cell_type": "code",
   "execution_count": 0,
   "metadata": {
    "collapsed": false,
    "scrolled": false
   },
   "outputs": [],
   "source": [
    "n_toys = 3500\n",
    "\n",
    "s_name = \"CSVv2L\"\n",
    "tagger = tag_dict[s_name][0]\n",
    "wp = tag_dict[s_name][1]\n",
    "lumi = 300.0\n",
    "\n",
    "bins = [30, 10000]\n",
    "\n",
    "\n",
    "pars = np.zeros((n_toys, 2+(len(bins)-1) ))\n",
    "errs = np.zeros((n_toys, 2+(len(bins)-1) ))\n",
    "truths = np.zeros((2+(len(bins)-1) ))\n",
    "\n",
    "for n in range(n_toys):          \n",
    "    root_file = TFile(\"{}fit_result_{}_{}_{}_{}.root\".format(dir_path, tagger, wp, lumi, n))\n",
    "    \n",
    "    fit_result = root_file.Get(\"fitresult_sim_kin_pdf_hmaster\")\n",
    "    i_pars = fit_result.floatParsInit()\n",
    "    f_pars = fit_result.floatParsFinal()\n",
    "    for p in range(f_pars.getSize()):\n",
    "        pars[n][p] = f_pars[p].getVal()\n",
    "        errs[n][p] = f_pars[p].getError()\n",
    "    if n is 0:\n",
    "        for p in range(i_pars.getSize()):\n",
    "            truths[p] = i_pars[p].getVal()\n",
    "    root_file.Close()\n",
    "        \n",
    "\n"
   ]
  },
  {
   "cell_type": "code",
   "execution_count": 0,
   "metadata": {
    "collapsed": false
   },
   "outputs": [],
   "source": [
    "%matplotlib inline\n",
    "\n",
    "import matplotlib\n",
    "\n",
    "matplotlib.rcParams.update({'font.size': 12,\n",
    "                            'figure.figsize' : (20.0, 16.0) })\n",
    "matplotlib.rc(\"savefig\", dpi=250)\n",
    "figure = corner.corner(pars,\n",
    "                       labels=[r\"efficiency $\\epsilon_b$\", r\"bkg norm $\\kappa$\", r\"$\\sigma_{t\\bar{t}}$ /pb\"],\n",
    "                       truths = truths\n",
    "                       )\n",
    "\n",
    "figure.savefig(\"toy_corner_{}_{:.0f}.pdf\".format(s_name,lumi))\n",
    "\n"
   ]
  },
  {
   "cell_type": "code",
   "execution_count": 0,
   "metadata": {
    "collapsed": false
   },
   "outputs": [],
   "source": [
    "n_toys = 2000\n",
    "\n",
    "taggers = {\"CSVv2L\" : {},\n",
    "           \"CSVv2M\" : {},\n",
    "           \"CSVv2T\" : {}}\n",
    "           \n",
    "for k,v in taggers.items():\n",
    "    tagger = tag_dict[k][0]\n",
    "    wp = tag_dict[k][1]\n",
    "    lumi = 300.0\n",
    "    \n",
    "    bins = [30, 10000]\n",
    "    \n",
    "    \n",
    "    pars = np.zeros((n_toys, 2+(len(bins)-1) ))\n",
    "    errs = np.zeros((n_toys, 2+(len(bins)-1) ))\n",
    "    truths = np.zeros((2+(len(bins)-1) ))\n",
    "    \n",
    "    for n in range(n_toys):\n",
    "        if n is 0:\n",
    "            for p in range(i_pars.getSize()):\n",
    "                truths[p] = i_pars[p].getVal()\n",
    "                \n",
    "        root_file = TFile(\"{}fit_result_{}_{}_{}_{}.root\".format(dir_path, tagger, wp, lumi, n))\n",
    "        \n",
    "        fit_result = root_file.Get(\"fitresult_sim_kin_pdf_hmaster\")\n",
    "        i_pars = fit_result.floatParsInit()\n",
    "        f_pars = fit_result.floatParsFinal()\n",
    "        for p in range(f_pars.getSize()):\n",
    "            pars[n][p] = f_pars[p].getVal()\n",
    "            errs[n][p] = f_pars[p].getError()\n",
    "        root_file.Close()\n",
    "    taggers[k][\"pars\"] = pars\n",
    "    taggers[k][\"errs\"] = errs\n",
    "    taggers[k][\"truths\"] = truths"
   ]
  },
  {
   "cell_type": "code",
   "execution_count": 0,
   "metadata": {
    "collapsed": false
   },
   "outputs": [],
   "source": [
    "n_toys = 3500\n",
    "\n",
    "lumis = {\"100.0\" : {},\n",
    "         \"300.0\" : {},\n",
    "         \"1000.0\" : {}}\n",
    "#lumis = {\"100.0\" : {}}\n",
    "\n",
    "s_name = \"CSVv2L\"\n",
    "\n",
    "for k,v in lumis.items():\n",
    "    lumi = k\n",
    "    tagger = tag_dict[s_name][0]\n",
    "    wp = tag_dict[s_name][1]\n",
    "    \n",
    "    bins = [30, 10000]\n",
    "    \n",
    "    \n",
    "    pars = np.zeros((n_toys, 2+(len(bins)-1) ))\n",
    "    errs = np.zeros((n_toys, 2+(len(bins)-1) ))\n",
    "    truths = np.zeros((2+(len(bins)-1) ))\n",
    "    \n",
    "    for n in range(n_toys):          \n",
    "        root_file = TFile(\"{}fit_result_{}_{}_{}_{}.root\".format(dir_path, tagger, wp, lumi, n))\n",
    "        \n",
    "        fit_result = root_file.Get(\"fitresult_sim_kin_pdf_hmaster\")\n",
    "        i_pars = fit_result.floatParsInit()\n",
    "        f_pars = fit_result.floatParsFinal()\n",
    "        for p in range(f_pars.getSize()):\n",
    "            pars[n][p] = f_pars[p].getVal()\n",
    "            errs[n][p] = f_pars[p].getError()\n",
    "        if n is 0:\n",
    "            for p in range(i_pars.getSize()):\n",
    "                truths[p] = i_pars[p].getVal()\n",
    "        root_file.Close()\n",
    "    lumis[k][\"pars\"] = pars\n",
    "    lumis[k][\"errs\"] = errs\n",
    "    lumis[k][\"truths\"] = truths"
   ]
  },
  {
   "cell_type": "code",
   "execution_count": 0,
   "metadata": {
    "collapsed": false
   },
   "outputs": [],
   "source": [
    "%matplotlib inline\n",
    "import matplotlib.pyplot as plt\n",
    "import matplotlib\n",
    "\n",
    "matplotlib.rcParams.update({'font.size': 18})\n",
    "par_names = [r\"efficiency $ \\epsilon^{0}_b$\".format(i)for i in range(pars.shape[1]-2)] + [r\"bkg norm $\\kappa$\", r\"$\\sigma_{t\\bar{t}}$ /pb\"]\n",
    "pull_names = [r\"\\epsilon^{0}_b\".format(i)for i in range(pars.shape[1]-2)] + [r\"\\kappa\", r\"\\sigma_{t\\bar{t}}\"]\n",
    "\n",
    "f, axarr = plt.subplots(2, pars.shape[1], figsize=(20,12))\n",
    "n_bins = 20\n",
    "y_max = 800\n",
    "for par in range(pars.shape[1]):\n",
    "    for k,v in lumis.items():\n",
    "        y_par, edg_par = np.histogram(v[\"pars\"][:,par], bins = n_bins)\n",
    "        axarr[0,par].errorbar(0.5*(edg_par[1:]-edg_par[1:])+edg_par[1:], y_par,\n",
    "                              xerr =0.5*(edg_par[1:]-edg_par[1:]),\n",
    "                              yerr = np.sqrt(y_par),\n",
    "                              fmt = \"o\", label = \"L = {:4.0f}\".format(float(k))+\" ${pb}^{-1}$\" )\n",
    "        axarr[0,par].set_ylim(0,y_max)\n",
    "        y_pull, edg_pull = np.histogram((v[\"pars\"][:,par] - v[\"truths\"][par])/v[\"errs\"][:,par], bins = n_bins)\n",
    "        pull_mean = np.mean((v[\"pars\"][:,par] - v[\"truths\"][par])/v[\"errs\"][:,par]) \n",
    "        pull_std = np.std((v[\"pars\"][:,par] - v[\"truths\"][par])/v[\"errs\"][:,par]) \n",
    "        pull_mean_err =  pull_std/np.sqrt(n_toys)\n",
    "        pull_std_err =  pull_std*np.sqrt(2./(n_toys-1))/2.\n",
    "        \n",
    "        axarr[1,par].errorbar(0.5*(edg_pull[1:]-edg_pull[1:])+edg_pull[1:], y_pull,\n",
    "                              xerr =0.5*(edg_pull[1:]-edg_pull[1:]),\n",
    "                              yerr = np.sqrt(y_par), fmt = \"o\",\n",
    "                             label = r\" $\\bar {} $= {:+.2f} $\\pm$ {:.2f}    $\\sigma_{{{}}} $= {:.2f} $\\pm$ {:.2f} \".format(pull_names[par], pull_mean, pull_mean_err,\n",
    "                                                                                                                        pull_names[par], pull_std, pull_std_err ))\n",
    "        axarr[1,par].set_ylim(0,y_max)\n",
    "        axarr[1,par].set_xlim(-4,4)\n",
    "    axarr[0,par].set_xlabel(par_names[par])\n",
    "    axarr[0,par].set_ylabel(\"# toys\")\n",
    "    axarr[0,par].legend( numpoints=1, loc = 9, frameon=False, prop={'size':14})\n",
    "    axarr[1,par].set_xlabel(\"pull(${}$)\".format(pull_names[par]))\n",
    "    axarr[1,par].set_ylabel(\"# toys\")\n",
    "    axarr[1,par].legend(numpoints=1,  loc = 9,frameon=False, prop={'size':14})\n",
    "        \n",
    "f.savefig(\"toy_pars_pull_13tev_50ns.pdf\")\n",
    "\n"
   ]
  },
  {
   "cell_type": "code",
   "execution_count": 0,
   "metadata": {
    "collapsed": false
   },
   "outputs": [],
   "source": [
    "print n_toys"
   ]
  },
  {
   "cell_type": "code",
   "execution_count": 0,
   "metadata": {
    "collapsed": false
   },
   "outputs": [],
   "source": [
    "print \"{:.5f}\".format(np.sqrt(2./(n_toys-1)))\n"
   ]
  },
  {
   "cell_type": "code",
   "execution_count": 0,
   "metadata": {
    "collapsed": false
   },
   "outputs": [],
   "source": [
    "lumi = \"1000.0\"\n",
    "lumis[lumi][\"errs\"]/lumis[lumi][\"pars\"]"
   ]
  }
 ],
 "metadata": {
  "kernelspec": {
   "display_name": "Python 2",
   "language": "python",
   "name": "python2"
  },
  "language_info": {
   "codemirror_mode": {
    "name": "ipython",
    "version": 2
   },
   "file_extension": ".py",
   "mimetype": "text/x-python",
   "name": "python",
   "nbconvert_exporter": "python",
   "pygments_lexer": "ipython2",
   "version": "2.7.6"
  }
 },
 "nbformat": 4,
 "nbformat_minor": 0
}